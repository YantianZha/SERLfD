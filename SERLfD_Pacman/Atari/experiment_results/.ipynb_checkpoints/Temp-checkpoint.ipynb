{
 "cells": [
  {
   "cell_type": "code",
   "execution_count": 1,
   "metadata": {},
   "outputs": [],
   "source": [
    "import pickle"
   ]
  },
  {
   "cell_type": "code",
   "execution_count": 5,
   "metadata": {},
   "outputs": [
    {
     "name": "stdout",
     "output_type": "stream",
     "text": [
      "<class 'list'>\n",
      "5000\n"
     ]
    }
   ],
   "source": [
    "demo = None\n",
    "with open('lunarlander_continuous_demo.pkl', 'rb') as f_traj:\n",
    "    demo = list(pickle.load(f_traj))\n",
    "print(type(demo))\n",
    "print(len(demo))"
   ]
  },
  {
   "cell_type": "code",
   "execution_count": 6,
   "metadata": {},
   "outputs": [
    {
     "name": "stdout",
     "output_type": "stream",
     "text": [
      "5\n"
     ]
    }
   ],
   "source": [
    "print(len(demo[0]))"
   ]
  },
  {
   "cell_type": "code",
   "execution_count": 8,
   "metadata": {},
   "outputs": [
    {
     "name": "stdout",
     "output_type": "stream",
     "text": [
      "traj length:  188\n",
      "traj length:  405\n",
      "traj length:  644\n",
      "traj length:  822\n",
      "traj length:  1084\n",
      "traj length:  1276\n",
      "traj length:  1502\n",
      "traj length:  1745\n",
      "traj length:  2020\n",
      "traj length:  2192\n",
      "traj length:  2350\n",
      "traj length:  2537\n",
      "traj length:  2766\n",
      "traj length:  2978\n",
      "traj length:  3193\n",
      "traj length:  3358\n",
      "traj length:  3547\n",
      "traj length:  3718\n",
      "traj length:  3893\n",
      "traj length:  4119\n",
      "traj length:  4280\n",
      "traj length:  4486\n",
      "traj length:  4647\n",
      "traj length:  4834\n",
      "24\n"
     ]
    }
   ],
   "source": [
    "traj_list = []\n",
    "current_traj = []\n",
    "for i in range(len(demo)):\n",
    "    if demo[i][4]:\n",
    "        print('traj length: ', len(current_traj))\n",
    "        traj_list.append(current_traj)\n",
    "        current_traj = []\n",
    "    else:\n",
    "        current_traj.append(demo[i])\n",
    "# save to pickle\n",
    "print(len(traj_list))\n",
    "with open('lunar_lander_continous_expert_demo.pickle', 'wb') as f_traj:\n",
    "    pickle.dump(traj_list, f_traj, protocol=pickle.HIGHEST_PROTOCOL)"
   ]
  },
  {
   "cell_type": "code",
   "execution_count": null,
   "metadata": {},
   "outputs": [],
   "source": []
  }
 ],
 "metadata": {
  "kernelspec": {
   "display_name": "Python 3",
   "language": "python",
   "name": "python3"
  },
  "language_info": {
   "codemirror_mode": {
    "name": "ipython",
    "version": 3
   },
   "file_extension": ".py",
   "mimetype": "text/x-python",
   "name": "python",
   "nbconvert_exporter": "python",
   "pygments_lexer": "ipython3",
   "version": "3.7.4"
  }
 },
 "nbformat": 4,
 "nbformat_minor": 2
}
