{
 "cells": [
  {
   "cell_type": "markdown",
   "metadata": {},
   "source": [
    "# Read Demo\n",
    "- import function from demo_utils.py"
   ]
  },
  {
   "cell_type": "code",
   "execution_count": 1,
   "metadata": {
    "pycharm": {
     "is_executing": false
    }
   },
   "outputs": [
    {
     "name": "stdout",
     "output_type": "stream",
     "text": [
      "['Enum', 'TRAJECTORY_INDEX', '__builtins__', '__cached__', '__doc__', '__file__', '__loader__', '__name__', '__package__', '__spec__', 'deque', 'extract_experiences_from_indexed_trajs', 'extract_transitions_from_indexed_trajs', 'get_flatten_indexed_trajs', 'get_flatten_indexed_utility_info', 'get_flatten_trajectories', 'get_flatten_utility_info', 'get_indexed_trajs', 'get_indexed_utility_info', 'get_n_step_info', 'get_n_step_info_from_demo', 'np', 'pickle', 'read_expert_demo', 'read_expert_demo_utility_info', 'split_fixed_length_indexed_traj', 'split_fixed_length_traj']\n"
     ]
    }
   ],
   "source": [
    "import demo_utils\n",
    "print(dir(demo_utils))"
   ]
  },
  {
   "cell_type": "markdown",
   "metadata": {},
   "source": [
    "## Get all States"
   ]
  },
  {
   "cell_type": "code",
   "execution_count": 9,
   "metadata": {
    "pycharm": {
     "is_executing": false
    }
   },
   "outputs": [
    {
     "name": "stdout",
     "output_type": "stream",
     "text": [
      "shape:  (48, 126, 3)\n",
      "n states:  35209\n"
     ]
    }
   ],
   "source": [
    "def get_all_states():\n",
    "    fname_demo = 'pacman_random_0/traj_pacman_random_0.pickle'\n",
    "    demo_list = demo_utils.read_expert_demo(fname_demo)\n",
    "    # print('number of trajectories: ', len(demo_list))\n",
    "    # get flatten trajectories\n",
    "    flat_demo_list = demo_utils.get_flatten_trajectories(demo_list)\n",
    "    \n",
    "    n_states = len(flat_demo_list)\n",
    "    states_list = [None for _ in range(n_states)]\n",
    "    for i in range(n_states):\n",
    "        states_list[i] = flat_demo_list[i][0]\n",
    "    return states_list\n",
    "\n",
    "states = get_all_states()\n",
    "print('shape: ', states[9].shape)\n",
    "print('n states: ', len(states))"
   ]
  },
  {
   "cell_type": "markdown",
   "metadata": {},
   "source": [
    "## Function You Need\n",
    "- read_expert_demo: return trajectories (trajectories are stored in separated list)\n",
    "- get_flatten_demos: return all transitions tuple(state, action, reward, next_state, is_done) in a single list"
   ]
  },
  {
   "cell_type": "code",
   "execution_count": null,
   "metadata": {
    "pycharm": {
     "is_executing": false
    }
   },
   "outputs": [],
   "source": [
    "fname_demo = 'pacman_random_0/traj_pacman_random_0.pickle'\n",
    "demo_list = demo_utils.read_expert_demo(fname_demo)\n",
    "# print('number of trajectories: ', len(demo_list))\n",
    "# get flatten trajectories\n",
    "flat_demo_list = demo_utils.get_flatten_trajectories(demo_list)\n",
    "print('number of transitions: ', len(flat_demo_list))"
   ]
  },
  {
   "cell_type": "markdown",
   "metadata": {},
   "source": [
    "## Get the States\n",
    "- each state is a numpy array\n",
    "- shape: (3, 84, 189) (can be used in pytorch directly)\n",
    "- to get each state, you only need to interate through flat_demo_list\\[i\\]\\[0\\] (the first element with index 0 in each transition tuple is the state you need)"
   ]
  },
  {
   "cell_type": "code",
   "execution_count": null,
   "metadata": {
    "pycharm": {
     "is_executing": false
    }
   },
   "outputs": [],
   "source": [
    "# take the first state as example\n",
    "print(flat_demo_list[0][0].shape)"
   ]
  },
  {
   "cell_type": "code",
   "execution_count": 6,
   "metadata": {
    "pycharm": {
     "is_executing": false
    }
   },
   "outputs": [
    {
     "data": {
      "text/plain": [
       "<matplotlib.image.AxesImage at 0x131741590>"
      ]
     },
     "execution_count": 6,
     "metadata": {},
     "output_type": "execute_result"
    },
    {
     "data": {
      "image/png": "[encoded data removed]",
      "text/plain": [
       "<Figure size 432x288 with 1 Axes>"
      ]
     },
     "metadata": {
      "needs_background": "light"
     },
     "output_type": "display_data"
    }
   ],
   "source": [
    "from torchvision.transforms import ToPILImage\n",
    "import matplotlib.pyplot as plt\n",
    "import numpy as np\n",
    "\n",
    "plt.imshow(states[9][0])"
   ]
  },
  {
   "cell_type": "markdown",
   "metadata": {},
   "source": [
    "## To Grayscale\n",
    "- If do grayscale, you might need this function"
   ]
  },
  {
   "cell_type": "code",
   "execution_count": null,
   "metadata": {
    "pycharm": {
     "is_executing": false
    }
   },
   "outputs": [],
   "source": [
    "def to_grayscale(state):\n",
    "    return np.dot(state[..., :3], [0.299, 0.587, 0.114])\n",
    "\n",
    "state = flat_demo_list[9][0]\n",
    "gray_state = to_grayscale(state)\n",
    "print('grayscale state shape: ', gray_state.shape)\n",
    "\n",
    "plt.imshow(gray_state, cmap='gray', vmin=0, vmax=255)"
   ]
  },
  {
   "cell_type": "code",
   "execution_count": 24,
   "metadata": {
    "pycharm": {
     "is_executing": false
    }
   },
   "outputs": [
    {
     "name": "stdout",
     "output_type": "stream",
     "text": [
      "original shape:  (48, 126, 3)\n",
      "after obs shape:  (48, 126, 1)\n"
     ]
    },
    {
     "data": {
      "text/plain": [
       "<matplotlib.image.AxesImage at 0x132488850>"
      ]
     },
     "execution_count": 24,
     "metadata": {},
     "output_type": "execute_result"
    },
    {
     "data": {
      "image/png": "[encoded data removed]",
      "text/plain": [
       "<Figure size 432x288 with 1 Axes>"
      ]
     },
     "metadata": {
      "needs_background": "light"
     },
     "output_type": "display_data"
    }
   ],
   "source": [
    "def to_grayscale(rgb):\n",
    "    \"\"\" the rgb should in the format of (height, width, 3) \"\"\"\n",
    "    return np.dot(rgb[..., :3], [0.299, 0.587, 0.114])\n",
    "\n",
    "def observation(observation):\n",
    "    # and finally we change order of dimensions for every single observation\n",
    "    # here transpose method could be also used\n",
    "    obs = observation.astype(float)\n",
    "    if True:\n",
    "        obs = np.expand_dims(to_grayscale(obs), axis=2)\n",
    "    if True:\n",
    "        for i_channel in range(obs.shape[2]):\n",
    "            channel_min = np.min(obs[:, :, i_channel])\n",
    "            channel_max = np.max(obs[:, :, i_channel])\n",
    "            delta = channel_max - channel_min\n",
    "            if delta == 0:\n",
    "                obs[:, :, i_channel] = np.zeros_like(obs[:, :, i_channel], dtype=np.float)\n",
    "            else:\n",
    "                obs[:, :, i_channel] = (obs[:, :, i_channel] - channel_min) / (channel_max - channel_min)\n",
    "    return obs\n",
    "\n",
    "state = states[9]\n",
    "print('original shape: ', state.shape)\n",
    "print('after obs shape: ', observation(state).shape)\n",
    "plt.imshow(observation(state)[:, :, 0], cmap='gray', vmin=0, vmax=1.0)"
   ]
  },
  {
   "cell_type": "code",
   "execution_count": null,
   "metadata": {},
   "outputs": [],
   "source": []
  }
 ],
 "metadata": {
  "kernelspec": {
   "display_name": "Python 3",
   "language": "python",
   "name": "python3"
  },
  "language_info": {
   "codemirror_mode": {
    "name": "ipython",
    "version": 3
   },
   "file_extension": ".py",
   "mimetype": "text/x-python",
   "name": "python",
   "nbconvert_exporter": "python",
   "pygments_lexer": "ipython3",
   "version": "3.7.4"
  }
 },
 "nbformat": 4,
 "nbformat_minor": 2
}
